{
 "cells": [
  {
   "cell_type": "code",
   "execution_count": 29,
   "metadata": {},
   "outputs": [
    {
     "name": "stdout",
     "output_type": "stream",
     "text": [
      "7\n",
      "23\n"
     ]
    }
   ],
   "source": [
    "import numpy as np\n",
    "from tensorflow import keras\n",
    "import tensorflow as tf\n",
    "from tensorflow.keras import layers\n",
    "\n",
    "gnrtr = (x for x in ['2','1 2 -1 5 4', '1 3 2 6 5 -1'])\n",
    "def input():\n",
    "    return next(gnrtr)\n",
    "\n",
    "# read in the data\n",
    "n = int(input())\n",
    "data = []\n",
    "maxlen = 0\n",
    "maxint = 0\n",
    "for i in range(n):\n",
    "    words = [int(x) for x in input().split()]\n",
    "    data.append(words)\n",
    "    maxlen = max(maxlen, len(words))\n",
    "    maxint = max(maxint, max(words))\n",
    "\n",
    "# process the data\n",
    "for datum in data:\n",
    "    for i in range(len(datum)):\n",
    "        if datum[i] == -1:\n",
    "            datum[i] = maxint+1\n",
    "forward_x = []\n",
    "backward_x = []\n",
    "forward_y = []\n",
    "backward_y = []\n",
    "real_indices = []\n",
    "for datum in data:\n",
    "    for i in range(len(datum)):\n",
    "        if datum[i] == maxint+1:\n",
    "            real_indices.append(len(forward_x))\n",
    "        forward_x.append(datum[:i])\n",
    "        forward_y.append(datum[i])\n",
    "        backward_x.append(datum[i+1:])\n",
    "        backward_y.append(datum[i])\n",
    "        \n",
    "# def one_hot(x):\n",
    "#     # hack: increase the size of the one-hot encoding by 1 so that a value of -1 just maps to the last value\n",
    "#     ans = np.zeros(maxint+2)\n",
    "#     ans[x] = 1\n",
    "#     return ans\n",
    "\n",
    "for i in range(len(forward_x)):\n",
    "#     forward_x[i] = [one_hot(x) for x in forward_x[i]]\n",
    "#     backward_x[i] = [one_hot(x) for x in backward_x[i]]\n",
    "    forward_y[i] = one_hot(forward_y[i])\n",
    "    backward_y[i] = one_hot(backward_y[i])\n",
    "\n",
    "# print(data[:100])\n",
    "\n",
    "forward_x = keras.preprocessing.sequence.pad_sequences(forward_x, maxlen=maxlen)\n",
    "backward_x = keras.preprocessing.sequence.pad_sequences(backward_x, maxlen=maxlen)\n",
    "forward_y = np.array(forward_y)\n",
    "backward_y = np.array(backward_y)\n",
    "\n",
    "# build the model\n",
    "# https://keras.io/examples/nlp/bidirectional_lstm_imdb/\n",
    "inputs = keras.Input(shape=(None,), dtype=\"int32\")\n",
    "# Embed each integer in a 128-dimensional vector\n",
    "x = layers.Embedding(maxint+2, 128)(inputs)\n",
    "# Add 2 bidirectional LSTMs\n",
    "x = layers.Bidirectional(layers.LSTM(64, return_sequences=True))(x)\n",
    "x = layers.Bidirectional(layers.LSTM(64))(x)\n",
    "# Add a classifier\n",
    "outputs = layers.Dense(maxint+2, activation=\"softmax\")(x)\n",
    "model1 = keras.Model(inputs, outputs)\n",
    "\n",
    "model1.compile(\"adam\", \"categorical_crossentropy\", metrics=[\"accuracy\"])\n",
    "model1.fit(forward_x, forward_y, batch_size=32, epochs=10,verbose=0)\n",
    "\n",
    "\n",
    "# build the model\n",
    "# https://keras.io/examples/nlp/bidirectional_lstm_imdb/\n",
    "inputs = keras.Input(shape=(None,), dtype=\"int32\")\n",
    "# Embed each integer in a 128-dimensional vector\n",
    "x = layers.Embedding(maxint+2, 128)(inputs)\n",
    "# Add 2 bidirectional LSTMs\n",
    "x = layers.Bidirectional(layers.LSTM(64, return_sequences=True))(x)\n",
    "x = layers.Bidirectional(layers.LSTM(64))(x)\n",
    "# Add a classifier\n",
    "outputs = layers.Dense(maxint+2, activation=\"softmax\")(x)\n",
    "model2 = keras.Model(inputs, outputs)\n",
    "\n",
    "model2.compile(\"adam\", \"categorical_crossentropy\", metrics=[\"accuracy\"])\n",
    "model2.fit(backward_x, backward_y, batch_size=32, epochs=10,verbose=0)\n",
    "\n",
    "for index in real_indices:\n",
    "    ans = model1.predict([forward_x[index]])[0]\n",
    "    ans += model2.predict([backward_x[index]])[0]\n",
    "    print(np.argmax(ans[1:-1]))"
   ]
  },
  {
   "cell_type": "code",
   "execution_count": 16,
   "metadata": {},
   "outputs": [
    {
     "data": {
      "text/plain": [
       "array([[0.11742759, 0.12781632, 0.13205944, 0.12471851, 0.12240694,\n",
       "        0.12519644, 0.1240024 , 0.12637226]], dtype=float32)"
      ]
     },
     "execution_count": 16,
     "metadata": {},
     "output_type": "execute_result"
    }
   ],
   "source": [
    "model.predict([[0,0,0,0,1,2]])"
   ]
  },
  {
   "cell_type": "code",
   "execution_count": 27,
   "metadata": {
    "scrolled": true
   },
   "outputs": [
    {
     "name": "stdout",
     "output_type": "stream",
     "text": [
      "4\n",
      "4\n"
     ]
    }
   ],
   "source": [
    "for index in real_indices:\n",
    "    ans = model1.predict([forward_x[index]])[0]\n",
    "    ans += model2.predict([backward_x[index]])[0]\n",
    "    print(np.argmax(ans[1:-1]))"
   ]
  },
  {
   "cell_type": "code",
   "execution_count": 28,
   "metadata": {},
   "outputs": [
    {
     "data": {
      "text/plain": [
       "array([0.23041424, 0.26012433, 0.25791824, 0.24142751, 0.24550924,\n",
       "       0.260258  , 0.24295214, 0.26139638], dtype=float32)"
      ]
     },
     "execution_count": 28,
     "metadata": {},
     "output_type": "execute_result"
    }
   ],
   "source": [
    "ans"
   ]
  },
  {
   "cell_type": "code",
   "execution_count": null,
   "metadata": {},
   "outputs": [],
   "source": []
  }
 ],
 "metadata": {
  "kernelspec": {
   "display_name": "Python 3",
   "language": "python",
   "name": "python3"
  },
  "language_info": {
   "codemirror_mode": {
    "name": "ipython",
    "version": 3
   },
   "file_extension": ".py",
   "mimetype": "text/x-python",
   "name": "python",
   "nbconvert_exporter": "python",
   "pygments_lexer": "ipython3",
   "version": "3.8.5"
  }
 },
 "nbformat": 4,
 "nbformat_minor": 4
}
